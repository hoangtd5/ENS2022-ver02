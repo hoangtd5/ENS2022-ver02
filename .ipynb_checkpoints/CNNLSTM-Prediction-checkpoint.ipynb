{
 "cells": [
  {
   "cell_type": "code",
   "execution_count": 1,
   "id": "b0a1bca2",
   "metadata": {},
   "outputs": [],
   "source": [
    "import numpy as np\n",
    "import pandas as pd\n",
    "from tensorflow import keras\n",
    "from tensorflow.keras import layers\n",
    "from matplotlib import pyplot as plt"
   ]
  },
  {
   "cell_type": "code",
   "execution_count": 2,
   "id": "244bce5c",
   "metadata": {},
   "outputs": [],
   "source": [
    "import pandas as pd\n",
    "import os\n",
    "PATH = os.path.join(\"\", \"\")\n",
    "FILENAME=\"log_data_dp_2021_04_19_19_28_31.csv\"\n",
    "def load_temp_data(temp_path=PATH,file_name=FILENAME):\n",
    "    csv_path = os.path.join(temp_path, file_name)\n",
    "    return pd.read_csv(csv_path)\n"
   ]
  },
  {
   "cell_type": "code",
   "execution_count": 3,
   "id": "aa11f392",
   "metadata": {},
   "outputs": [
    {
     "data": {
      "text/html": [
       "<div>\n",
       "<style scoped>\n",
       "    .dataframe tbody tr th:only-of-type {\n",
       "        vertical-align: middle;\n",
       "    }\n",
       "\n",
       "    .dataframe tbody tr th {\n",
       "        vertical-align: top;\n",
       "    }\n",
       "\n",
       "    .dataframe thead th {\n",
       "        text-align: right;\n",
       "    }\n",
       "</style>\n",
       "<table border=\"1\" class=\"dataframe\">\n",
       "  <thead>\n",
       "    <tr style=\"text-align: right;\">\n",
       "      <th></th>\n",
       "      <th>Time</th>\n",
       "      <th>PSU temperature[DegC]</th>\n",
       "      <th>Humidity[%]</th>\n",
       "      <th>Particle 1.0[um]</th>\n",
       "      <th>Particle 2.5[um]</th>\n",
       "    </tr>\n",
       "  </thead>\n",
       "  <tbody>\n",
       "    <tr>\n",
       "      <th>0</th>\n",
       "      <td>2021-04-19 19:28:31</td>\n",
       "      <td>27.36</td>\n",
       "      <td>28.52</td>\n",
       "      <td>987.0</td>\n",
       "      <td>365.0</td>\n",
       "    </tr>\n",
       "    <tr>\n",
       "      <th>1</th>\n",
       "      <td>2021-04-19 19:28:32</td>\n",
       "      <td>27.39</td>\n",
       "      <td>28.43</td>\n",
       "      <td>986.0</td>\n",
       "      <td>365.0</td>\n",
       "    </tr>\n",
       "    <tr>\n",
       "      <th>2</th>\n",
       "      <td>2021-04-19 19:28:33</td>\n",
       "      <td>27.37</td>\n",
       "      <td>28.43</td>\n",
       "      <td>985.0</td>\n",
       "      <td>365.0</td>\n",
       "    </tr>\n",
       "    <tr>\n",
       "      <th>3</th>\n",
       "      <td>2021-04-19 19:28:34</td>\n",
       "      <td>27.36</td>\n",
       "      <td>28.46</td>\n",
       "      <td>984.0</td>\n",
       "      <td>365.0</td>\n",
       "    </tr>\n",
       "    <tr>\n",
       "      <th>4</th>\n",
       "      <td>2021-04-19 19:28:35</td>\n",
       "      <td>27.39</td>\n",
       "      <td>28.45</td>\n",
       "      <td>984.0</td>\n",
       "      <td>365.0</td>\n",
       "    </tr>\n",
       "  </tbody>\n",
       "</table>\n",
       "</div>"
      ],
      "text/plain": [
       "                  Time  PSU temperature[DegC]  Humidity[%]  Particle 1.0[um]  \\\n",
       "0  2021-04-19 19:28:31                  27.36        28.52             987.0   \n",
       "1  2021-04-19 19:28:32                  27.39        28.43             986.0   \n",
       "2  2021-04-19 19:28:33                  27.37        28.43             985.0   \n",
       "3  2021-04-19 19:28:34                  27.36        28.46             984.0   \n",
       "4  2021-04-19 19:28:35                  27.39        28.45             984.0   \n",
       "\n",
       "   Particle 2.5[um]  \n",
       "0             365.0  \n",
       "1             365.0  \n",
       "2             365.0  \n",
       "3             365.0  \n",
       "4             365.0  "
      ]
     },
     "execution_count": 3,
     "metadata": {},
     "output_type": "execute_result"
    }
   ],
   "source": [
    "df = load_temp_data()\n",
    "df.head()"
   ]
  },
  {
   "cell_type": "code",
   "execution_count": 4,
   "id": "dbc29f89",
   "metadata": {},
   "outputs": [],
   "source": [
    "import numpy as np\n",
    "import warnings\n",
    "import datetime as dt\n",
    "def pre_data(df):   \n",
    "    df_tidy = df.drop(['Particle 2.5[um]','Humidity[%]','Particle 1.0[um]'],axis=1)\n",
    "    warnings.filterwarnings(\"ignore\")\n",
    "    df_tidy.loc[:,'Time'] = pd.to_datetime(df.Time.astype(str))\n",
    "    return df_tidy.set_index('Time')"
   ]
  },
  {
   "cell_type": "code",
   "execution_count": 5,
   "id": "c1b8844d",
   "metadata": {},
   "outputs": [
    {
     "data": {
      "image/png": "[encoded data removed]",
      "text/plain": [
       "<Figure size 432x288 with 1 Axes>"
      ]
     },
     "metadata": {
      "needs_background": "light"
     },
     "output_type": "display_data"
    }
   ],
   "source": [
    "fig, ax = plt.subplots()\n",
    "df_tidy = pre_data(df)\n",
    "df_tidy.plot(legend=False, ax=ax)\n",
    "plt.show()"
   ]
  },
  {
   "cell_type": "code",
   "execution_count": 6,
   "id": "15df95b1",
   "metadata": {},
   "outputs": [
    {
     "name": "stdout",
     "output_type": "stream",
     "text": [
      "Number of training samples: 556649\n"
     ]
    }
   ],
   "source": [
    "# Normalize and save the mean and std we get,\n",
    "# for normalizing test data.\n",
    "from sklearn.preprocessing import MinMaxScaler\n",
    "\n",
    "mmscaler = MinMaxScaler()\n",
    "\n",
    "df_transform = mmscaler.fit_transform(df_tidy)\n",
    "df_training_value = pd.DataFrame(data=df_transform,columns=list(df_tidy.columns),index=df_tidy.reset_index()['Time'])\n",
    "print(\"Number of training samples:\", len(df_training_value))"
   ]
  },
  {
   "cell_type": "code",
   "execution_count": 7,
   "id": "ff783b18",
   "metadata": {},
   "outputs": [
    {
     "name": "stdout",
     "output_type": "stream",
     "text": [
      "Training input shape:  (399700, 300, 1)\n"
     ]
    }
   ],
   "source": [
    "TIME_STEPS = 300\n",
    "\n",
    "# Generated training sequences for use in the model.\n",
    "def create_sequences(values, time_steps=TIME_STEPS):\n",
    "    X,y = [],[]\n",
    "    for i in range(len(values) - time_steps + 1):\n",
    "        if (i+time_steps)>len(values)-1:\n",
    "            break\n",
    "        X.append(values[i : (i + time_steps)])\n",
    "        y.append(values[(i + time_steps)])\n",
    "    X_out = np.stack(X)\n",
    "    y_out = np.stack(y)\n",
    "    return X_out,y_out\n",
    "\n",
    "\n",
    "x_train,y_train = create_sequences(df_training_value[:400000].values)\n",
    "x_test,y_test = create_sequences(df_training_value[400000:].values)\n",
    "\n",
    "print(\"Training input shape: \", x_train.shape)\n"
   ]
  },
  {
   "cell_type": "code",
   "execution_count": 8,
   "id": "afbeab6c",
   "metadata": {},
   "outputs": [],
   "source": [
    "from tensorflow.compat.v1 import ConfigProto\n",
    "from tensorflow.compat.v1 import InteractiveSession\n",
    "\n",
    "config = ConfigProto()\n",
    "config.gpu_options.allow_growth = True\n",
    "session = InteractiveSession(config=config)"
   ]
  },
  {
   "cell_type": "code",
   "execution_count": 9,
   "id": "0426e8ca",
   "metadata": {},
   "outputs": [
    {
     "name": "stdout",
     "output_type": "stream",
     "text": [
      "WARNING:tensorflow:Layer lstm will not use cuDNN kernel since it doesn't meet the cuDNN kernel criteria. It will use generic GPU kernel as fallback when running on GPU\n",
      "Model: \"sequential\"\n",
      "_________________________________________________________________\n",
      "Layer (type)                 Output Shape              Param #   \n",
      "=================================================================\n",
      "time_distributed (TimeDistri (None, None, 150, 64)     128       \n",
      "_________________________________________________________________\n",
      "time_distributed_1 (TimeDist (None, None, 75, 64)      0         \n",
      "_________________________________________________________________\n",
      "time_distributed_2 (TimeDist (None, None, 4800)        0         \n",
      "_________________________________________________________________\n",
      "lstm (LSTM)                  (None, 64)                1245440   \n",
      "_________________________________________________________________\n",
      "dense (Dense)                (None, 1)                 65        \n",
      "=================================================================\n",
      "Total params: 1,245,633\n",
      "Trainable params: 1,245,633\n",
      "Non-trainable params: 0\n",
      "_________________________________________________________________\n"
     ]
    }
   ],
   "source": [
    "from numpy import array\n",
    "from tensorflow.keras.models import Sequential\n",
    "from tensorflow.keras.layers import LSTM\n",
    "from tensorflow.keras.layers import Dense\n",
    "from tensorflow.keras.layers import Flatten,Dropout\n",
    "from tensorflow.keras.layers import TimeDistributed\n",
    "from tensorflow.keras.layers import Conv1D\n",
    "from tensorflow.keras.layers import MaxPooling1D\n",
    "\n",
    "# reshape from [samples, timesteps] into [samples, subsequences, timesteps, features]\n",
    "n_features = 1\n",
    "n_seq = 2\n",
    "n_steps = 150\n",
    "x_train = x_train.reshape((x_train.shape[0], n_seq, n_steps, n_features))\n",
    "# define model\n",
    "model = Sequential()\n",
    "model.add(TimeDistributed(Conv1D(filters=64, kernel_size=1, activation='relu'), input_shape=(None, n_steps, n_features)))\n",
    "#model.add(TimeDistributed(Dropout(0.05)))\n",
    "model.add(TimeDistributed(MaxPooling1D(pool_size=2)))\n",
    "model.add(TimeDistributed(Flatten()))\n",
    "model.add(LSTM(64, activation='relu'))\n",
    "model.add(Dense(1))\n",
    "model.compile(optimizer='adam', loss='mse')\n",
    "model.summary()\n",
    "\n"
   ]
  },
  {
   "cell_type": "code",
   "execution_count": 10,
   "id": "03a3482a",
   "metadata": {},
   "outputs": [
    {
     "name": "stdout",
     "output_type": "stream",
     "text": [
      "Epoch 1/50\n",
      "664/664 [==============================] - 17s 19ms/step - loss: 0.0078 - val_loss: 7.6514e-05\n",
      "Epoch 2/50\n",
      "664/664 [==============================] - 11s 16ms/step - loss: 3.7717e-05 - val_loss: 5.1152e-05\n",
      "Epoch 3/50\n",
      "664/664 [==============================] - 11s 16ms/step - loss: 2.8464e-05 - val_loss: 2.2524e-05\n",
      "Epoch 4/50\n",
      "664/664 [==============================] - 11s 16ms/step - loss: 1.1743e-05 - val_loss: 1.7020e-05\n",
      "Epoch 5/50\n",
      "664/664 [==============================] - 11s 16ms/step - loss: 8.2917e-06 - val_loss: 1.4125e-05\n",
      "Epoch 6/50\n",
      "664/664 [==============================] - 11s 16ms/step - loss: 9.1455e-06 - val_loss: 1.0314e-05\n",
      "Epoch 7/50\n",
      "664/664 [==============================] - 11s 16ms/step - loss: 1.2213e-05 - val_loss: 2.3811e-05: 6s  - ETA: 0s - loss: 1.2243e\n",
      "Epoch 8/50\n",
      "664/664 [==============================] - 11s 16ms/step - loss: 1.0396e-05 - val_loss: 8.9748e-06\n",
      "Epoch 9/50\n",
      "664/664 [==============================] - 11s 16ms/step - loss: 1.2445e-05 - val_loss: 1.0095e-05 ETA:  - ET - ETA: 1s - loss: 1.3161 - \n",
      "Epoch 10/50\n",
      "664/664 [==============================] - 10s 16ms/step - loss: 8.0678e-06 - val_loss: 4.9423e-06TA: 6s - los - ETA: 5s - loss:  - ETA: 4s - los - ETA: 0s - loss: 8\n",
      "Epoch 11/50\n",
      "664/664 [==============================] - 10s 16ms/step - loss: 6.5345e-06 - val_loss: 4.4773e-065s - loss: 6.5569 - ETA: 5s - loss: 6. - ETA: \n",
      "Epoch 12/50\n",
      "664/664 [==============================] - 10s 16ms/step - loss: 5.7146e-06 - val_loss: 4.4758e-06 ETA\n",
      "Epoch 13/50\n",
      "664/664 [==============================] - 11s 17ms/step - loss: 5.6006e-06 - val_loss: 5.3081e-06\n",
      "Epoch 14/50\n",
      "664/664 [==============================] - 11s 16ms/step - loss: 4.9818e-06 - val_loss: 1.2048e-05\n",
      "Epoch 15/50\n",
      "664/664 [==============================] - 11s 16ms/step - loss: 5.3762e-06 - val_loss: 4.4369e-06\n",
      "Epoch 16/50\n",
      "664/664 [==============================] - 11s 16ms/step - loss: 5.0230e-06 - val_loss: 4.3818e-06\n",
      "Epoch 17/50\n",
      "664/664 [==============================] - 11s 16ms/step - loss: 5.2369e-06 - val_loss: 8.4606e-06\n",
      "Epoch 18/50\n",
      "664/664 [==============================] - 11s 16ms/step - loss: 4.8947e-06 - val_loss: 7.2721e-06\n",
      "Epoch 19/50\n",
      "664/664 [==============================] - 10s 16ms/step - loss: 5.5916e-06 - val_loss: 4.3584e-06\n",
      "Epoch 20/50\n",
      "664/664 [==============================] - 11s 16ms/step - loss: 4.5310e-06 - val_loss: 4.2362e-06\n",
      "Epoch 21/50\n",
      "664/664 [==============================] - 11s 16ms/step - loss: 5.8296e-06 - val_loss: 1.3156e-05\n",
      "Epoch 22/50\n",
      "664/664 [==============================] - 11s 16ms/step - loss: 5.0872e-06 - val_loss: 4.9453e-06\n",
      "Epoch 23/50\n",
      "664/664 [==============================] - 10s 16ms/step - loss: 4.7507e-06 - val_loss: 4.0242e-06: 0s - \n",
      "Epoch 24/50\n",
      "664/664 [==============================] - 11s 16ms/step - loss: 4.7377e-06 - val_loss: 4.1358e-064.6 - E - ETA: 0s -\n",
      "Epoch 25/50\n",
      "664/664 [==============================] - 11s 17ms/step - loss: 4.5512e-06 - val_loss: 4.4268e-06\n",
      "Epoch 26/50\n",
      "664/664 [==============================] - 11s 16ms/step - loss: 4.8030e-06 - val_loss: 4.4854e-06\n",
      "Epoch 27/50\n",
      "664/664 [==============================] - 11s 16ms/step - loss: 4.6723e-06 - val_loss: 6.9992e-06\n",
      "Epoch 28/50\n",
      "664/664 [==============================] - 11s 16ms/step - loss: 4.7381e-06 - val_loss: 4.8837e-06\n"
     ]
    }
   ],
   "source": [
    "# fit model\n",
    "history = model.fit(x_train,\n",
    "                    y_train,\n",
    "                    epochs=50,\n",
    "                    batch_size=512,\n",
    "                    validation_split=0.15,\n",
    "                    callbacks=[\n",
    "                        keras.callbacks.EarlyStopping(monitor=\"val_loss\", patience=5, mode=\"min\")\n",
    "                    ],\n",
    ")"
   ]
  },
  {
   "cell_type": "code",
   "execution_count": 12,
   "id": "d2b7175d",
   "metadata": {},
   "outputs": [
    {
     "data": {
      "image/png": "[encoded data removed]",
      "text/plain": [
       "<Figure size 432x288 with 1 Axes>"
      ]
     },
     "metadata": {
      "needs_background": "light"
     },
     "output_type": "display_data"
    }
   ],
   "source": [
    "plt.plot(history.history[\"loss\"], label=\"Training Loss\")\n",
    "plt.plot(history.history['val_loss'], label=\"val_loss\")\n",
    "plt.legend()\n",
    "plt.show()"
   ]
  },
  {
   "cell_type": "code",
   "execution_count": 13,
   "id": "72d405ab",
   "metadata": {},
   "outputs": [
    {
     "name": "stdout",
     "output_type": "stream",
     "text": [
      "(156349, 300, 1)\n",
      "(300,)\n",
      "[[0.5971696]]\n"
     ]
    }
   ],
   "source": [
    "# demonstrate prediction\n",
    "print(x_test.shape)\n",
    "x_input = x_test[0,:,0]\n",
    "print(x_input.shape)\n",
    "x_input = x_input.reshape((1, n_seq, n_steps, n_features))\n",
    "yhat = model.predict(x_input, verbose=0)\n",
    "print(yhat)\n"
   ]
  },
  {
   "cell_type": "code",
   "execution_count": 14,
   "id": "d0e4096c",
   "metadata": {},
   "outputs": [],
   "source": [
    "model.save(\"temp_predict_CNN-LSTM.h5\")\n"
   ]
  },
  {
   "cell_type": "code",
   "execution_count": 15,
   "id": "7af5b2d9",
   "metadata": {},
   "outputs": [
    {
     "name": "stdout",
     "output_type": "stream",
     "text": [
      "WARNING:tensorflow:Layer lstm will not use cuDNN kernel since it doesn't meet the cuDNN kernel criteria. It will use generic GPU kernel as fallback when running on GPU\n"
     ]
    }
   ],
   "source": [
    "import h5py\n",
    "from tensorflow import keras\n",
    "\n",
    "re_model = keras.models.load_model(\"temp_predict_CNN-LSTM.h5\")"
   ]
  },
  {
   "cell_type": "code",
   "execution_count": null,
   "id": "46a06bd9",
   "metadata": {},
   "outputs": [],
   "source": []
  }
 ],
 "metadata": {
  "kernelspec": {
   "display_name": "Python 3",
   "language": "python",
   "name": "python3"
  },
  "language_info": {
   "codemirror_mode": {
    "name": "ipython",
    "version": 3
   },
   "file_extension": ".py",
   "mimetype": "text/x-python",
   "name": "python",
   "nbconvert_exporter": "python",
   "pygments_lexer": "ipython3",
   "version": "3.8.8"
  }
 },
 "nbformat": 4,
 "nbformat_minor": 5
}
