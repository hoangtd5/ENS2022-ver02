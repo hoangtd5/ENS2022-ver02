{
 "cells": [
  {
   "cell_type": "code",
   "execution_count": 1,
   "id": "b0a1bca2",
   "metadata": {},
   "outputs": [],
   "source": [
    "import numpy as np\n",
    "import pandas as pd\n",
    "from tensorflow import keras\n",
    "from tensorflow.keras import layers\n",
    "from matplotlib import pyplot as plt"
   ]
  },
  {
   "cell_type": "code",
   "execution_count": 2,
   "id": "244bce5c",
   "metadata": {},
   "outputs": [],
   "source": [
    "import pandas as pd\n",
    "import os\n",
    "PATH = os.path.join(\"\", \"\")\n",
    "FILENAME=\"Log_data_dp_2021_12_22_14_32_46.csv\"\n",
    "def load_temp_data(temp_path=PATH,file_name=FILENAME):\n",
    "    csv_path = os.path.join(temp_path, file_name)\n",
    "    return pd.read_csv(csv_path)\n"
   ]
  },
  {
   "cell_type": "code",
   "execution_count": 3,
   "id": "aa11f392",
   "metadata": {},
   "outputs": [
    {
     "data": {
      "text/html": [
       "<div>\n",
       "<style scoped>\n",
       "    .dataframe tbody tr th:only-of-type {\n",
       "        vertical-align: middle;\n",
       "    }\n",
       "\n",
       "    .dataframe tbody tr th {\n",
       "        vertical-align: top;\n",
       "    }\n",
       "\n",
       "    .dataframe thead th {\n",
       "        text-align: right;\n",
       "    }\n",
       "</style>\n",
       "<table border=\"1\" class=\"dataframe\">\n",
       "  <thead>\n",
       "    <tr style=\"text-align: right;\">\n",
       "      <th></th>\n",
       "      <th>Time</th>\n",
       "      <th>PSU temperature[DegC]</th>\n",
       "      <th>Humidity[%]</th>\n",
       "      <th>Particle 1.0[um]</th>\n",
       "      <th>Particle 2.5[um]</th>\n",
       "    </tr>\n",
       "  </thead>\n",
       "  <tbody>\n",
       "    <tr>\n",
       "      <th>0</th>\n",
       "      <td>2021-12-22 14:32:46</td>\n",
       "      <td>22.47</td>\n",
       "      <td>21.98</td>\n",
       "      <td>919.0</td>\n",
       "      <td>181.0</td>\n",
       "    </tr>\n",
       "    <tr>\n",
       "      <th>1</th>\n",
       "      <td>2021-12-22 14:32:47</td>\n",
       "      <td>22.47</td>\n",
       "      <td>22.01</td>\n",
       "      <td>918.0</td>\n",
       "      <td>181.0</td>\n",
       "    </tr>\n",
       "    <tr>\n",
       "      <th>2</th>\n",
       "      <td>2021-12-22 14:32:48</td>\n",
       "      <td>22.46</td>\n",
       "      <td>22.06</td>\n",
       "      <td>918.0</td>\n",
       "      <td>181.0</td>\n",
       "    </tr>\n",
       "    <tr>\n",
       "      <th>3</th>\n",
       "      <td>2021-12-22 14:32:49</td>\n",
       "      <td>22.46</td>\n",
       "      <td>22.00</td>\n",
       "      <td>917.0</td>\n",
       "      <td>181.0</td>\n",
       "    </tr>\n",
       "    <tr>\n",
       "      <th>4</th>\n",
       "      <td>2021-12-22 14:32:50</td>\n",
       "      <td>22.50</td>\n",
       "      <td>21.94</td>\n",
       "      <td>916.0</td>\n",
       "      <td>181.0</td>\n",
       "    </tr>\n",
       "  </tbody>\n",
       "</table>\n",
       "</div>"
      ],
      "text/plain": [
       "                  Time  PSU temperature[DegC]  Humidity[%]  Particle 1.0[um]  \\\n",
       "0  2021-12-22 14:32:46                  22.47        21.98             919.0   \n",
       "1  2021-12-22 14:32:47                  22.47        22.01             918.0   \n",
       "2  2021-12-22 14:32:48                  22.46        22.06             918.0   \n",
       "3  2021-12-22 14:32:49                  22.46        22.00             917.0   \n",
       "4  2021-12-22 14:32:50                  22.50        21.94             916.0   \n",
       "\n",
       "   Particle 2.5[um]  \n",
       "0             181.0  \n",
       "1             181.0  \n",
       "2             181.0  \n",
       "3             181.0  \n",
       "4             181.0  "
      ]
     },
     "execution_count": 3,
     "metadata": {},
     "output_type": "execute_result"
    }
   ],
   "source": [
    "df = load_temp_data()\n",
    "df.head()"
   ]
  },
  {
   "cell_type": "code",
   "execution_count": 4,
   "id": "dbc29f89",
   "metadata": {},
   "outputs": [],
   "source": [
    "import numpy as np\n",
    "import warnings\n",
    "import datetime as dt\n",
    "def pre_data(df):   \n",
    "    df_tidy = df.drop(['Particle 2.5[um]','Humidity[%]','Particle 1.0[um]'],axis=1)\n",
    "    warnings.filterwarnings(\"ignore\")\n",
    "    df_tidy.loc[:,'Time'] = pd.to_datetime(df.Time.astype(str))\n",
    "    return df_tidy.set_index('Time')"
   ]
  },
  {
   "cell_type": "code",
   "execution_count": 5,
   "id": "c1b8844d",
   "metadata": {},
   "outputs": [
    {
     "data": {
      "image/png": "[encoded data removed]",
      "text/plain": [
       "<Figure size 432x288 with 1 Axes>"
      ]
     },
     "metadata": {
      "needs_background": "light"
     },
     "output_type": "display_data"
    }
   ],
   "source": [
    "fig, ax = plt.subplots()\n",
    "df_tidy = pre_data(df)\n",
    "df_tidy.plot(legend=False, ax=ax)\n",
    "plt.show()"
   ]
  },
  {
   "cell_type": "code",
   "execution_count": 6,
   "id": "15df95b1",
   "metadata": {},
   "outputs": [
    {
     "name": "stdout",
     "output_type": "stream",
     "text": [
      "Number of training samples: 548943\n"
     ]
    }
   ],
   "source": [
    "# Normalize and save the mean and std we get,\n",
    "# for normalizing test data.\n",
    "from sklearn.preprocessing import MinMaxScaler\n",
    "\n",
    "mmscaler = MinMaxScaler()\n",
    "\n",
    "df_transform = mmscaler.fit_transform(df_tidy)\n",
    "df_training_value = pd.DataFrame(data=df_transform,columns=list(df_tidy.columns),index=df_tidy.reset_index()['Time'])\n",
    "print(\"Number of training samples:\", len(df_training_value))"
   ]
  },
  {
   "cell_type": "code",
   "execution_count": 7,
   "id": "ff783b18",
   "metadata": {},
   "outputs": [
    {
     "name": "stdout",
     "output_type": "stream",
     "text": [
      "Training input shape:  (499341, 600, 1)\n"
     ]
    }
   ],
   "source": [
    "TIME_STEPS = 600\n",
    "\n",
    "# Generated training sequences for use in the model.\n",
    "def create_sequences(values, time_steps=TIME_STEPS):\n",
    "    X,y = [],[]\n",
    "    for i in range(len(values) - 60 -time_steps + 1):\n",
    "        if (i+time_steps)>len(values)-1:\n",
    "            break\n",
    "        X.append(values[i : (i + time_steps)])\n",
    "        y.append(values[(i + time_steps):(i + time_steps + 60)])\n",
    "    X_out = np.stack(X)\n",
    "    y_out = np.stack(y)\n",
    "    return X_out,y_out\n",
    "\n",
    "\n",
    "x_train,y_train = create_sequences(df_training_value[:500000].values)\n",
    "x_test,y_test = create_sequences(df_training_value[500000:].values)\n",
    "\n",
    "print(\"Training input shape: \", x_train.shape)\n"
   ]
  },
  {
   "cell_type": "code",
   "execution_count": 8,
   "id": "229b9fad",
   "metadata": {},
   "outputs": [
    {
     "name": "stdout",
     "output_type": "stream",
     "text": [
      "[[[0.55617353]\n",
      "  [0.55951057]\n",
      "  [0.55951057]\n",
      "  ...\n",
      "  [0.52391546]\n",
      "  [0.52502781]\n",
      "  [0.52502781]]\n",
      "\n",
      " [[0.55951057]\n",
      "  [0.55951057]\n",
      "  [0.55951057]\n",
      "  ...\n",
      "  [0.52502781]\n",
      "  [0.52502781]\n",
      "  [0.52391546]]\n",
      "\n",
      " [[0.55951057]\n",
      "  [0.55951057]\n",
      "  [0.55951057]\n",
      "  ...\n",
      "  [0.52502781]\n",
      "  [0.52391546]\n",
      "  [0.5272525 ]]\n",
      "\n",
      " ...\n",
      "\n",
      " [[0.29477197]\n",
      "  [0.29477197]\n",
      "  [0.29365962]\n",
      "  ...\n",
      "  [0.29365962]\n",
      "  [0.29365962]\n",
      "  [0.29365962]]\n",
      "\n",
      " [[0.29477197]\n",
      "  [0.29365962]\n",
      "  [0.29365962]\n",
      "  ...\n",
      "  [0.29365962]\n",
      "  [0.29365962]\n",
      "  [0.29699666]]\n",
      "\n",
      " [[0.29365962]\n",
      "  [0.29365962]\n",
      "  [0.29254727]\n",
      "  ...\n",
      "  [0.29365962]\n",
      "  [0.29699666]\n",
      "  [0.29699666]]]\n"
     ]
    }
   ],
   "source": [
    "print(x_test)"
   ]
  },
  {
   "cell_type": "code",
   "execution_count": 9,
   "id": "afbeab6c",
   "metadata": {},
   "outputs": [],
   "source": [
    "from tensorflow.compat.v1 import ConfigProto\n",
    "from tensorflow.compat.v1 import InteractiveSession\n",
    "\n",
    "config = ConfigProto()\n",
    "config.gpu_options.allow_growth = True\n",
    "session = InteractiveSession(config=config)"
   ]
  },
  {
   "cell_type": "code",
   "execution_count": 10,
   "id": "0426e8ca",
   "metadata": {},
   "outputs": [
    {
     "name": "stdout",
     "output_type": "stream",
     "text": [
      "WARNING:tensorflow:Layer lstm will not use cuDNN kernel since it doesn't meet the cuDNN kernel criteria. It will use generic GPU kernel as fallback when running on GPU\n",
      "Model: \"sequential\"\n",
      "_________________________________________________________________\n",
      "Layer (type)                 Output Shape              Param #   \n",
      "=================================================================\n",
      "time_distributed (TimeDistri (None, None, 300, 64)     128       \n",
      "_________________________________________________________________\n",
      "time_distributed_1 (TimeDist (None, None, 150, 64)     0         \n",
      "_________________________________________________________________\n",
      "time_distributed_2 (TimeDist (None, None, 9600)        0         \n",
      "_________________________________________________________________\n",
      "lstm (LSTM)                  (None, 64)                2474240   \n",
      "_________________________________________________________________\n",
      "dense (Dense)                (None, 60)                3900      \n",
      "=================================================================\n",
      "Total params: 2,478,268\n",
      "Trainable params: 2,478,268\n",
      "Non-trainable params: 0\n",
      "_________________________________________________________________\n"
     ]
    }
   ],
   "source": [
    "from numpy import array\n",
    "from tensorflow.keras.models import Sequential\n",
    "from tensorflow.keras.layers import LSTM\n",
    "from tensorflow.keras.layers import Dense\n",
    "from tensorflow.keras.layers import Flatten,Dropout\n",
    "from tensorflow.keras.layers import TimeDistributed\n",
    "from tensorflow.keras.layers import Conv1D\n",
    "from tensorflow.keras.layers import MaxPooling1D\n",
    "\n",
    "# reshape from [samples, timesteps] into [samples, subsequences, timesteps, features]\n",
    "n_features = 1\n",
    "n_seq = 2\n",
    "n_steps = 300\n",
    "x_train = x_train.reshape((x_train.shape[0], n_seq, n_steps, n_features))\n",
    "# define model\n",
    "model = Sequential()\n",
    "model.add(TimeDistributed(Conv1D(filters=64, kernel_size=1, activation='relu'), input_shape=(None, n_steps, n_features)))\n",
    "#model.add(TimeDistributed(Dropout(0.05)))\n",
    "model.add(TimeDistributed(MaxPooling1D(pool_size=2)))\n",
    "model.add(TimeDistributed(Flatten()))\n",
    "model.add(LSTM(64, activation='relu'))\n",
    "model.add(Dense(60))\n",
    "model.compile(optimizer='adam', loss='mse')\n",
    "model.summary()\n",
    "\n"
   ]
  },
  {
   "cell_type": "code",
   "execution_count": 11,
   "id": "03a3482a",
   "metadata": {},
   "outputs": [
    {
     "name": "stdout",
     "output_type": "stream",
     "text": [
      "Epoch 1/50\n",
      "781/781 [==============================] - 26s 19ms/step - loss: 0.0207 - val_loss: 6.3120e-04\n",
      "Epoch 2/50\n",
      "781/781 [==============================] - 13s 17ms/step - loss: 2.1789e-04 - val_loss: 1.6604e-04A - ETA: 0s - loss: 2.1990\n",
      "Epoch 3/50\n",
      "781/781 [==============================] - 13s 17ms/step - loss: 6.3855e-05 - val_loss: 1.2234e-04\n",
      "Epoch 4/50\n",
      "781/781 [==============================] - 13s 17ms/step - loss: 5.1867e-05 - val_loss: 8.4345e-05A: 3s -  - ET - ETA: 1s -\n",
      "Epoch 5/50\n",
      "781/781 [==============================] - 13s 17ms/step - loss: 3.6373e-05 - val_loss: 5.6079e-056s - loss - ET - ETA: 2s - loss: 3.6402 - ETA: 2s - loss: 3.6 - ETA: 2s - loss: 3.6\n",
      "Epoch 6/50\n",
      "781/781 [==============================] - 13s 17ms/step - loss: 3.3270e-05 - val_loss: 4.8871e-05s - ET\n",
      "Epoch 7/50\n",
      "781/781 [==============================] - 13s 17ms/step - loss: 3.1456e-05 - val_loss: 5.7356e-05\n",
      "Epoch 8/50\n",
      "781/781 [==============================] - 13s 17ms/step - loss: 3.3763e-05 - val_loss: 4.0848e-05\n",
      "Epoch 9/50\n",
      "781/781 [==============================] - 13s 17ms/step - loss: 2.6761e-05 - val_loss: 3.9211e-05\n",
      "Epoch 10/50\n",
      "781/781 [==============================] - 13s 17ms/step - loss: 2.5548e-05 - val_loss: 5.1487e-05ss\n",
      "Epoch 11/50\n",
      "781/781 [==============================] - 13s 17ms/step - loss: 2.4788e-05 - val_loss: 6.3923e-05\n",
      "Epoch 12/50\n",
      "781/781 [==============================] - 13s 17ms/step - loss: 2.3799e-05 - val_loss: 3.5193e-05: 2s - loss: 2.43\n",
      "Epoch 13/50\n",
      "781/781 [==============================] - 13s 17ms/step - loss: 2.2942e-05 - val_loss: 3.9797e-05\n",
      "Epoch 14/50\n",
      "781/781 [==============================] - 13s 17ms/step - loss: 2.4595e-05 - val_loss: 3.1874e-05ss: 2.8697 - ETA: 4s - loss: 2.838 - ETA: 4s - loss: 2.80 - ETA: 0s - loss: 2.47\n",
      "Epoch 15/50\n",
      "781/781 [==============================] - 13s 17ms/step - loss: 1.9019e-05 - val_loss: 3.8471e-05\n",
      "Epoch 16/50\n",
      "781/781 [==============================] - 13s 17ms/step - loss: 2.1444e-05 - val_loss: 2.8215e-05\n",
      "Epoch 17/50\n",
      "781/781 [==============================] - 13s 17ms/step - loss: 1.4415e-05 - val_loss: 2.7532e-05\n",
      "Epoch 18/50\n",
      "781/781 [==============================] - 13s 17ms/step - loss: 1.5395e-05 - val_loss: 4.2060e-05\n",
      "Epoch 19/50\n",
      "781/781 [==============================] - 13s 17ms/step - loss: 1.2610e-05 - val_loss: 2.2721e-05\n",
      "Epoch 20/50\n",
      "781/781 [==============================] - 13s 17ms/step - loss: 1.3982e-05 - val_loss: 2.7152e-05\n",
      "Epoch 21/50\n",
      "781/781 [==============================] - 13s 17ms/step - loss: 1.2512e-05 - val_loss: 2.3028e-05\n",
      "Epoch 22/50\n",
      "781/781 [==============================] - 13s 17ms/step - loss: 1.1735e-05 - val_loss: 2.3108e-05\n",
      "Epoch 23/50\n",
      "781/781 [==============================] - 13s 17ms/step - loss: 1.1780e-05 - val_loss: 2.7527e-05\n",
      "Epoch 24/50\n",
      "781/781 [==============================] - 13s 17ms/step - loss: 1.1627e-05 - val_loss: 2.7788e-05\n"
     ]
    }
   ],
   "source": [
    "# fit model\n",
    "history = model.fit(x_train,\n",
    "                    y_train,\n",
    "                    epochs=50,\n",
    "                    batch_size=512,\n",
    "                    validation_split=0.2,\n",
    "                    callbacks=[\n",
    "                        keras.callbacks.EarlyStopping(monitor=\"val_loss\", patience=5, mode=\"min\")\n",
    "                    ],\n",
    ")"
   ]
  },
  {
   "cell_type": "code",
   "execution_count": 12,
   "id": "d2b7175d",
   "metadata": {},
   "outputs": [
    {
     "data": {
      "image/png": "[encoded data removed]",
      "text/plain": [
       "<Figure size 432x288 with 1 Axes>"
      ]
     },
     "metadata": {
      "needs_background": "light"
     },
     "output_type": "display_data"
    }
   ],
   "source": [
    "plt.plot(history.history[\"loss\"], label=\"Training Loss\")\n",
    "plt.plot(history.history['val_loss'], label=\"val_loss\")\n",
    "plt.legend()\n",
    "plt.show()"
   ]
  },
  {
   "cell_type": "code",
   "execution_count": 13,
   "id": "72d405ab",
   "metadata": {},
   "outputs": [
    {
     "name": "stdout",
     "output_type": "stream",
     "text": [
      "(48284, 600, 1)\n",
      "(600,)\n",
      "[[0.5195341  0.51914096 0.5183612  0.5199227  0.5192319  0.517689\n",
      "  0.52075535 0.51891613 0.5201725  0.5198879  0.51892096 0.51688826\n",
      "  0.5190097  0.5164694  0.5181198  0.51646936 0.51902604 0.51841444\n",
      "  0.5174966  0.5188032  0.51808894 0.51835495 0.5192052  0.51960546\n",
      "  0.5178046  0.5195135  0.51794225 0.51770544 0.51863503 0.5187679\n",
      "  0.51818454 0.5176699  0.5164035  0.51826644 0.51865923 0.5172339\n",
      "  0.5179566  0.5193539  0.517987   0.51909447 0.5198437  0.5178311\n",
      "  0.5179457  0.5170308  0.5170594  0.5180176  0.5169595  0.51848036\n",
      "  0.52011347 0.5181395  0.5162519  0.516803   0.5174648  0.5189411\n",
      "  0.5190254  0.5178773  0.5163716  0.5170978  0.5186893  0.5209304 ]]\n"
     ]
    }
   ],
   "source": [
    "# demonstrate prediction\n",
    "print(x_test.shape)\n",
    "x_input = x_test[0,:,0]\n",
    "print(x_input.shape)\n",
    "x_input = x_input.reshape((1, n_seq, n_steps, n_features))\n",
    "yhat = model.predict(x_input, verbose=0)\n",
    "print(yhat)\n"
   ]
  },
  {
   "cell_type": "code",
   "execution_count": 14,
   "id": "d0e4096c",
   "metadata": {},
   "outputs": [],
   "source": [
    "model.save(\"temp_predict_CNN-LSTM3.h5\")\n"
   ]
  },
  {
   "cell_type": "code",
   "execution_count": 15,
   "id": "7af5b2d9",
   "metadata": {},
   "outputs": [
    {
     "name": "stdout",
     "output_type": "stream",
     "text": [
      "WARNING:tensorflow:Layer lstm_1 will not use cuDNN kernel since it doesn't meet the cuDNN kernel criteria. It will use generic GPU kernel as fallback when running on GPU\n"
     ]
    }
   ],
   "source": [
    "import h5py\n",
    "from tensorflow import keras\n",
    "\n",
    "re_model = keras.models.load_model(\"temp_predict_CNN-LSTM2.h5\")"
   ]
  },
  {
   "cell_type": "code",
   "execution_count": null,
   "id": "46a06bd9",
   "metadata": {},
   "outputs": [],
   "source": []
  }
 ],
 "metadata": {
  "kernelspec": {
   "display_name": "Python 3",
   "language": "python",
   "name": "python3"
  },
  "language_info": {
   "codemirror_mode": {
    "name": "ipython",
    "version": 3
   },
   "file_extension": ".py",
   "mimetype": "text/x-python",
   "name": "python",
   "nbconvert_exporter": "python",
   "pygments_lexer": "ipython3",
   "version": "3.8.8"
  }
 },
 "nbformat": 4,
 "nbformat_minor": 5
}
